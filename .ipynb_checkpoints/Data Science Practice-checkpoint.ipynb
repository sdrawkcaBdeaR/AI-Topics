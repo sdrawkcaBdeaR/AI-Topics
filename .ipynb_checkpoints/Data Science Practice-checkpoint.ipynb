{
 "cells": [
  {
   "cell_type": "markdown",
   "id": "c036753d",
   "metadata": {},
   "source": [
    "# DATA SCIENCE"
   ]
  },
  {
   "cell_type": "markdown",
   "id": "8b299bfa",
   "metadata": {},
   "source": [
    "## python basics"
   ]
  },
  {
   "cell_type": "code",
   "execution_count": 1,
   "id": "d2e427e8",
   "metadata": {},
   "outputs": [
    {
     "data": {
      "text/plain": [
       "4"
      ]
     },
     "execution_count": 1,
     "metadata": {},
     "output_type": "execute_result"
    }
   ],
   "source": [
    "2+2 #"
   ]
  },
  {
   "cell_type": "code",
   "execution_count": 2,
   "id": "3b17c0ca",
   "metadata": {},
   "outputs": [
    {
     "data": {
      "text/plain": [
       "1.5"
      ]
     },
     "execution_count": 2,
     "metadata": {},
     "output_type": "execute_result"
    }
   ],
   "source": [
    "3/2 #this will give us a floatin point datatype"
   ]
  },
  {
   "cell_type": "code",
   "execution_count": 5,
   "id": "b3d5ba48",
   "metadata": {},
   "outputs": [
    {
     "data": {
      "text/plain": [
       "int"
      ]
     },
     "execution_count": 5,
     "metadata": {},
     "output_type": "execute_result"
    }
   ],
   "source": [
    "type(2) #this will give the datatype of the value"
   ]
  },
  {
   "cell_type": "code",
   "execution_count": 7,
   "id": "8fabe87f",
   "metadata": {},
   "outputs": [
    {
     "name": "stdout",
     "output_type": "stream",
     "text": [
      "hello world\n"
     ]
    }
   ],
   "source": [
    "str='hello world'\n",
    "print(str)"
   ]
  },
  {
   "cell_type": "code",
   "execution_count": 8,
   "id": "e00d9d64",
   "metadata": {},
   "outputs": [
    {
     "data": {
      "text/plain": [
       "'hello world'"
      ]
     },
     "execution_count": 8,
     "metadata": {},
     "output_type": "execute_result"
    }
   ],
   "source": [
    "str #there will be output because of the jupyter notebook feature along with the quotes"
   ]
  },
  {
   "cell_type": "code",
   "execution_count": 9,
   "id": "4dc39d01",
   "metadata": {},
   "outputs": [
    {
     "data": {
      "text/plain": [
       "'football is the most played sport in the earth'"
      ]
     },
     "execution_count": 9,
     "metadata": {},
     "output_type": "execute_result"
    }
   ],
   "source": [
    "'{} is the most played sport in the {}'.format('football','earth')"
   ]
  },
  {
   "cell_type": "code",
   "execution_count": 10,
   "id": "4f1c0c26",
   "metadata": {},
   "outputs": [
    {
     "data": {
      "text/plain": [
       "'football is the most played sport in the earth, and football is my favourite sport'"
      ]
     },
     "execution_count": 10,
     "metadata": {},
     "output_type": "execute_result"
    }
   ],
   "source": [
    "'{one} is the most played sport in the {two}, and {one} is my favourite sport'.format(one='football',two='earth')"
   ]
  },
  {
   "cell_type": "code",
   "execution_count": 11,
   "id": "1b5cefce",
   "metadata": {},
   "outputs": [],
   "source": [
    "lst=[1,2,3,2,1,3] #list is enclosed with square brackets"
   ]
  },
  {
   "cell_type": "code",
   "execution_count": 12,
   "id": "90d14faf",
   "metadata": {},
   "outputs": [
    {
     "data": {
      "text/plain": [
       "[2, 3]"
      ]
     },
     "execution_count": 12,
     "metadata": {},
     "output_type": "execute_result"
    }
   ],
   "source": [
    "lst[1:3] #slicing, we can also access individual elements the usual way"
   ]
  },
  {
   "cell_type": "code",
   "execution_count": 14,
   "id": "0f038a4e",
   "metadata": {},
   "outputs": [
    {
     "name": "stdout",
     "output_type": "stream",
     "text": [
      "[1, 2, [3, 4, [5, 5]]]\n"
     ]
    }
   ],
   "source": [
    "lst=[1,2,[3,4,[5,5]]] #lists can be nested also\n",
    "print(lst)"
   ]
  },
  {
   "cell_type": "code",
   "execution_count": 24,
   "id": "2492eefa",
   "metadata": {},
   "outputs": [
    {
     "data": {
      "text/plain": [
       "{'k1': 'hello', 'k2': 'world', 'k3': 'this is nitin'}"
      ]
     },
     "execution_count": 24,
     "metadata": {},
     "output_type": "execute_result"
    }
   ],
   "source": [
    "dic={'k1':'hello','k2':'world','k3':'this is nitin'} #this is dict which stores key-value pair\n",
    "dic"
   ]
  },
  {
   "cell_type": "code",
   "execution_count": 25,
   "id": "5cb23be2",
   "metadata": {},
   "outputs": [
    {
     "name": "stdout",
     "output_type": "stream",
     "text": [
      "hello\n",
      "world\n",
      "this is nitin\n"
     ]
    }
   ],
   "source": [
    "for key in dic:\n",
    "    print(dic[key])"
   ]
  },
  {
   "cell_type": "code",
   "execution_count": 26,
   "id": "1e4cc06f",
   "metadata": {},
   "outputs": [],
   "source": [
    "tup=(2,3,5,1,4) #tuples are immutable list which are enclosed within circular brackets"
   ]
  },
  {
   "cell_type": "code",
   "execution_count": 27,
   "id": "6c226ca2",
   "metadata": {},
   "outputs": [
    {
     "ename": "TypeError",
     "evalue": "'tuple' object does not support item assignment",
     "output_type": "error",
     "traceback": [
      "\u001b[0;31m---------------------------------------------------------------------------\u001b[0m",
      "\u001b[0;31mTypeError\u001b[0m                                 Traceback (most recent call last)",
      "\u001b[0;32m/var/folders/kn/5vmxrt755yd19r6tb66rw0mm0000gn/T/ipykernel_58374/1821055196.py\u001b[0m in \u001b[0;36m<module>\u001b[0;34m\u001b[0m\n\u001b[0;32m----> 1\u001b[0;31m \u001b[0mtup\u001b[0m\u001b[0;34m[\u001b[0m\u001b[0;36m0\u001b[0m\u001b[0;34m]\u001b[0m\u001b[0;34m=\u001b[0m\u001b[0;36m0\u001b[0m\u001b[0;34m\u001b[0m\u001b[0;34m\u001b[0m\u001b[0m\n\u001b[0m",
      "\u001b[0;31mTypeError\u001b[0m: 'tuple' object does not support item assignment"
     ]
    }
   ],
   "source": [
    "tup[0]=0"
   ]
  },
  {
   "cell_type": "code",
   "execution_count": 31,
   "id": "676f7b30",
   "metadata": {},
   "outputs": [],
   "source": [
    "lst.append(7) #we can add element at the end in list but not in tuple"
   ]
  },
  {
   "cell_type": "code",
   "execution_count": 35,
   "id": "e80962eb",
   "metadata": {},
   "outputs": [],
   "source": [
    "eset={4,4,3,4,5,5,3,1,1} #set only stores unique values and in order"
   ]
  },
  {
   "cell_type": "code",
   "execution_count": 37,
   "id": "04e3c803",
   "metadata": {},
   "outputs": [
    {
     "data": {
      "text/plain": [
       "{1, 3, 4, 5, 7}"
      ]
     },
     "execution_count": 37,
     "metadata": {},
     "output_type": "execute_result"
    }
   ],
   "source": [
    "eset.add(7) #we can add value using add method\n",
    "eset"
   ]
  },
  {
   "cell_type": "code",
   "execution_count": 38,
   "id": "b6b5f6ec",
   "metadata": {},
   "outputs": [
    {
     "data": {
      "text/plain": [
       "False"
      ]
     },
     "execution_count": 38,
     "metadata": {},
     "output_type": "execute_result"
    }
   ],
   "source": [
    "True and (False or False) #boolean values and operations"
   ]
  },
  {
   "cell_type": "code",
   "execution_count": 39,
   "id": "28c72242",
   "metadata": {},
   "outputs": [
    {
     "name": "stdout",
     "output_type": "stream",
     "text": [
      "yello\n"
     ]
    }
   ],
   "source": [
    "if 5>4:            #if-else also there is if-elif-else\n",
    "    print('yello')\n",
    "else:\n",
    "    print('mello')"
   ]
  },
  {
   "cell_type": "code",
   "execution_count": 40,
   "id": "ff9a02fa",
   "metadata": {},
   "outputs": [
    {
     "name": "stdout",
     "output_type": "stream",
     "text": [
      "1\n",
      "2\n",
      "[3, 4, [5, 5]]\n",
      "7\n"
     ]
    }
   ],
   "source": [
    "for element in lst: #goes through each value in list\n",
    "    print(element)"
   ]
  },
  {
   "cell_type": "code",
   "execution_count": 42,
   "id": "38047af2",
   "metadata": {},
   "outputs": [
    {
     "data": {
      "text/plain": [
       "[0, 1, 2, 3]"
      ]
     },
     "execution_count": 42,
     "metadata": {},
     "output_type": "execute_result"
    }
   ],
   "source": [
    "list(range(0,4,1))"
   ]
  },
  {
   "cell_type": "code",
   "execution_count": 43,
   "id": "2bd3e715",
   "metadata": {},
   "outputs": [
    {
     "name": "stdout",
     "output_type": "stream",
     "text": [
      "0\n",
      "1\n",
      "2\n",
      "3\n"
     ]
    }
   ],
   "source": [
    "for i in range(4): #range function makes range using the value provided\n",
    "    print(i)"
   ]
  },
  {
   "cell_type": "code",
   "execution_count": 44,
   "id": "7abf3f7a",
   "metadata": {},
   "outputs": [
    {
     "data": {
      "text/plain": [
       "[2, 4, [3, 4, [5, 5], 3, 4, [5, 5]], 14]"
      ]
     },
     "execution_count": 44,
     "metadata": {},
     "output_type": "execute_result"
    }
   ],
   "source": [
    "#we can do for loop operation inside a list also, like\n",
    "a=[num*2 for num in lst]\n",
    "a"
   ]
  },
  {
   "cell_type": "code",
   "execution_count": 49,
   "id": "2e4767ac",
   "metadata": {},
   "outputs": [
    {
     "data": {
      "text/plain": [
       "'hello nitin'"
      ]
     },
     "execution_count": 49,
     "metadata": {},
     "output_type": "execute_result"
    }
   ],
   "source": [
    "#we can make user-defined functions like:\n",
    "def func(str='momo'):\n",
    "    return('hello '+str)\n",
    "func('nitin')"
   ]
  },
  {
   "cell_type": "code",
   "execution_count": 50,
   "id": "c79b6f33",
   "metadata": {},
   "outputs": [
    {
     "data": {
      "text/plain": [
       "['hello nitin', 'hello rohit', 'hello messi']"
      ]
     },
     "execution_count": 50,
     "metadata": {},
     "output_type": "execute_result"
    }
   ],
   "source": [
    "list(map(func,['nitin','rohit','messi'])) #map applies the operation to all the elements in the list"
   ]
  },
  {
   "cell_type": "code",
   "execution_count": 51,
   "id": "3d88813d",
   "metadata": {},
   "outputs": [
    {
     "data": {
      "text/plain": [
       "[3, 25, 5, 7]"
      ]
     },
     "execution_count": 51,
     "metadata": {},
     "output_type": "execute_result"
    }
   ],
   "source": [
    "#similar to this we have filter function, which can remove elements according to the condition\n",
    "list(filter(lambda num:num%2, [2,3,25,5,7,4])) #lambda function is a concise way of writint functions"
   ]
  },
  {
   "cell_type": "code",
   "execution_count": 52,
   "id": "bb2cfd65",
   "metadata": {},
   "outputs": [
    {
     "data": {
      "text/plain": [
       "['hello', 'world!', 'This', 'is', 'Nitin', 'Rohit']"
      ]
     },
     "execution_count": 52,
     "metadata": {},
     "output_type": "execute_result"
    }
   ],
   "source": [
    "'hello world! This is Nitin Rohit'.split() #splits the string according to the delimiter"
   ]
  },
  {
   "cell_type": "code",
   "execution_count": 53,
   "id": "e2e62302",
   "metadata": {},
   "outputs": [
    {
     "data": {
      "text/plain": [
       "True"
      ]
     },
     "execution_count": 53,
     "metadata": {},
     "output_type": "execute_result"
    }
   ],
   "source": [
    "'Nitin' in 'hello world! This is Nitin Rohit' #in finds the presence of the value in the given list"
   ]
  },
  {
   "cell_type": "markdown",
   "id": "72385751",
   "metadata": {},
   "source": [
    "## NumPy Basics"
   ]
  },
  {
   "cell_type": "code",
   "execution_count": 54,
   "id": "46e6ee6f",
   "metadata": {},
   "outputs": [],
   "source": [
    "#importing the numpy module\n",
    "import numpy as np"
   ]
  },
  {
   "cell_type": "code",
   "execution_count": 55,
   "id": "8f31f67a",
   "metadata": {},
   "outputs": [
    {
     "data": {
      "text/plain": [
       "array([3, 4, 2, 1])"
      ]
     },
     "execution_count": 55,
     "metadata": {},
     "output_type": "execute_result"
    }
   ],
   "source": [
    "#making list from previous value\n",
    "lst=[3,4,2,1]\n",
    "nplist=np.array(lst)\n",
    "nplist"
   ]
  },
  {
   "cell_type": "code",
   "execution_count": 56,
   "id": "b074eba8",
   "metadata": {},
   "outputs": [
    {
     "data": {
      "text/plain": [
       "array([ 0,  2,  4,  6,  8, 10])"
      ]
     },
     "execution_count": 56,
     "metadata": {},
     "output_type": "execute_result"
    }
   ],
   "source": [
    "np.arange(0,11,2) #works like range function in normal python"
   ]
  },
  {
   "cell_type": "code",
   "execution_count": 57,
   "id": "f44dfac3",
   "metadata": {},
   "outputs": [
    {
     "data": {
      "text/plain": [
       "array([1., 1., 1., 1.])"
      ]
     },
     "execution_count": 57,
     "metadata": {},
     "output_type": "execute_result"
    }
   ],
   "source": [
    "np.ones(4) #gives array with all values with one"
   ]
  },
  {
   "cell_type": "code",
   "execution_count": 58,
   "id": "13782812",
   "metadata": {},
   "outputs": [
    {
     "data": {
      "text/plain": [
       "array([[1., 1., 1., 1.],\n",
       "       [1., 1., 1., 1.],\n",
       "       [1., 1., 1., 1.],\n",
       "       [1., 1., 1., 1.],\n",
       "       [1., 1., 1., 1.]])"
      ]
     },
     "execution_count": 58,
     "metadata": {},
     "output_type": "execute_result"
    }
   ],
   "source": [
    "np.ones((5,4))"
   ]
  },
  {
   "cell_type": "code",
   "execution_count": 59,
   "id": "63883949",
   "metadata": {},
   "outputs": [
    {
     "data": {
      "text/plain": [
       "array([0., 0., 0.])"
      ]
     },
     "execution_count": 59,
     "metadata": {},
     "output_type": "execute_result"
    }
   ],
   "source": [
    "np.zeros(3) #gives array with all values with zero"
   ]
  },
  {
   "cell_type": "code",
   "execution_count": 60,
   "id": "a0151850",
   "metadata": {},
   "outputs": [
    {
     "data": {
      "text/plain": [
       "array([[1., 0., 0., 0.],\n",
       "       [0., 1., 0., 0.],\n",
       "       [0., 0., 1., 0.],\n",
       "       [0., 0., 0., 1.]])"
      ]
     },
     "execution_count": 60,
     "metadata": {},
     "output_type": "execute_result"
    }
   ],
   "source": [
    "np.eye(4) #gives an identity matrix"
   ]
  },
  {
   "cell_type": "code",
   "execution_count": 65,
   "id": "57486594",
   "metadata": {},
   "outputs": [
    {
     "data": {
      "text/plain": [
       "array([ 1. ,  1.5,  2. ,  2.5,  3. ,  3.5,  4. ,  4.5,  5. ,  5.5,  6. ,\n",
       "        6.5,  7. ,  7.5,  8. ,  8.5,  9. ,  9.5, 10. ])"
      ]
     },
     "execution_count": 65,
     "metadata": {},
     "output_type": "execute_result"
    }
   ],
   "source": [
    "np.linspace(1,10,19) #gives linearly spaced values "
   ]
  },
  {
   "cell_type": "code",
   "execution_count": 66,
   "id": "e203d010",
   "metadata": {},
   "outputs": [
    {
     "data": {
      "text/plain": [
       "array([0.85035787, 0.83862407, 0.68458146, 0.39346086])"
      ]
     },
     "execution_count": 66,
     "metadata": {},
     "output_type": "execute_result"
    }
   ],
   "source": [
    "np.random.rand(4) #this will give array with random values between 0-1"
   ]
  },
  {
   "cell_type": "code",
   "execution_count": 68,
   "id": "461a617a",
   "metadata": {},
   "outputs": [
    {
     "data": {
      "text/plain": [
       "array([[0.42313464, 0.06766171, 0.63628588, 0.21502561],\n",
       "       [0.8317487 , 0.64257026, 0.38016398, 0.59220154],\n",
       "       [0.79200641, 0.36082346, 0.05824756, 0.55320786],\n",
       "       [0.50095363, 0.05487977, 0.37710268, 0.94778808]])"
      ]
     },
     "execution_count": 68,
     "metadata": {},
     "output_type": "execute_result"
    }
   ],
   "source": [
    "np.random.rand(4,4)"
   ]
  },
  {
   "cell_type": "code",
   "execution_count": 69,
   "id": "57b03105",
   "metadata": {},
   "outputs": [
    {
     "data": {
      "text/plain": [
       "array([-0.92474896, -1.79503006,  0.33916856, -0.15911912])"
      ]
     },
     "execution_count": 69,
     "metadata": {},
     "output_type": "execute_result"
    }
   ],
   "source": [
    "np.random.randn(4) #this is same as rand but will give normal distribution"
   ]
  },
  {
   "cell_type": "code",
   "execution_count": 70,
   "id": "9aecb15e",
   "metadata": {},
   "outputs": [
    {
     "data": {
      "text/plain": [
       "array([1, 8, 2, 9, 6, 9, 6, 0, 3, 4])"
      ]
     },
     "execution_count": 70,
     "metadata": {},
     "output_type": "execute_result"
    }
   ],
   "source": [
    "np.random.randint(0,10,10) #will give integer random numbers"
   ]
  },
  {
   "cell_type": "code",
   "execution_count": 72,
   "id": "77b78073",
   "metadata": {},
   "outputs": [
    {
     "data": {
      "text/plain": [
       "array([4, 2])"
      ]
     },
     "execution_count": 72,
     "metadata": {},
     "output_type": "execute_result"
    }
   ],
   "source": [
    "nplist[1:3] #slicing"
   ]
  },
  {
   "cell_type": "code",
   "execution_count": 73,
   "id": "256f9796",
   "metadata": {},
   "outputs": [
    {
     "data": {
      "text/plain": [
       "array([  3, 100, 100,   1])"
      ]
     },
     "execution_count": 73,
     "metadata": {},
     "output_type": "execute_result"
    }
   ],
   "source": [
    "nplist[1:3]=100 #broadcasting, this will set the values of all the values in the slice range\n",
    "nplist"
   ]
  },
  {
   "cell_type": "code",
   "execution_count": 74,
   "id": "6a8c2469",
   "metadata": {},
   "outputs": [
    {
     "data": {
      "text/plain": [
       "array([200, 200])"
      ]
     },
     "execution_count": 74,
     "metadata": {},
     "output_type": "execute_result"
    }
   ],
   "source": [
    "temp=nplist[1:3]\n",
    "temp[:]=200\n",
    "temp"
   ]
  },
  {
   "cell_type": "code",
   "execution_count": 75,
   "id": "c33c2956",
   "metadata": {},
   "outputs": [
    {
     "data": {
      "text/plain": [
       "array([  3, 200, 200,   1])"
      ]
     },
     "execution_count": 75,
     "metadata": {},
     "output_type": "execute_result"
    }
   ],
   "source": [
    "nplist #the actual array also changes as no new copy is created during slicing unlike normal python"
   ]
  },
  {
   "cell_type": "code",
   "execution_count": 76,
   "id": "93c7c27f",
   "metadata": {},
   "outputs": [
    {
     "data": {
      "text/plain": [
       "array([[ 1,  2,  3,  4],\n",
       "       [ 5,  6,  7,  8],\n",
       "       [ 9, 10, 11, 12],\n",
       "       [13, 14, 15, 16],\n",
       "       [17, 18, 19, 20]])"
      ]
     },
     "execution_count": 76,
     "metadata": {},
     "output_type": "execute_result"
    }
   ],
   "source": [
    "nplist=np.arange(1,21).reshape(5,4)\n",
    "nplist"
   ]
  },
  {
   "cell_type": "code",
   "execution_count": 78,
   "id": "c0c51ede",
   "metadata": {},
   "outputs": [
    {
     "data": {
      "text/plain": [
       "array([[ 6,  7],\n",
       "       [10, 11]])"
      ]
     },
     "execution_count": 78,
     "metadata": {},
     "output_type": "execute_result"
    }
   ],
   "source": [
    "nplist[1:3,1:3] #2D slicing, broadcasting can also be done with this"
   ]
  },
  {
   "cell_type": "code",
   "execution_count": 81,
   "id": "17937e70",
   "metadata": {},
   "outputs": [
    {
     "data": {
      "text/plain": [
       "array([ 6,  7,  8,  9, 10, 11, 12, 13, 14, 15, 16, 17, 18, 19, 20])"
      ]
     },
     "execution_count": 81,
     "metadata": {},
     "output_type": "execute_result"
    }
   ],
   "source": [
    "nplist[nplist>5]"
   ]
  },
  {
   "cell_type": "code",
   "execution_count": 84,
   "id": "3b3e6313",
   "metadata": {},
   "outputs": [
    {
     "data": {
      "text/plain": [
       "array([[  1,   4,   9,  16],\n",
       "       [ 25,  36,  49,  64],\n",
       "       [ 81, 100, 121, 144],\n",
       "       [169, 196, 225, 256],\n",
       "       [289, 324, 361, 400]])"
      ]
     },
     "execution_count": 84,
     "metadata": {},
     "output_type": "execute_result"
    }
   ],
   "source": [
    "nplist**2 #operation happens to all the elements in the array"
   ]
  },
  {
   "cell_type": "code",
   "execution_count": 88,
   "id": "7cc54f07",
   "metadata": {},
   "outputs": [
    {
     "data": {
      "text/plain": [
       "1"
      ]
     },
     "execution_count": 88,
     "metadata": {},
     "output_type": "execute_result"
    }
   ],
   "source": [
    "nplist.min()"
   ]
  },
  {
   "cell_type": "markdown",
   "id": "8a6e9118",
   "metadata": {},
   "source": [
    "## Pandas basics\n"
   ]
  },
  {
   "cell_type": "code",
   "execution_count": 91,
   "id": "5fca9d6b",
   "metadata": {},
   "outputs": [
    {
     "data": {
      "text/plain": [
       "0    23\n",
       "1    19\n",
       "2    22\n",
       "dtype: int64"
      ]
     },
     "execution_count": 91,
     "metadata": {},
     "output_type": "execute_result"
    }
   ],
   "source": [
    "#importing pandas\n",
    "import pandas as pd\n",
    "#Series Datatype\n",
    "s=pd.Series([23,19,22]) #we can also pass index value with an array\n",
    "s"
   ]
  },
  {
   "cell_type": "code",
   "execution_count": 93,
   "id": "b61efc42",
   "metadata": {},
   "outputs": [
    {
     "data": {
      "text/plain": [
       "0    23\n",
       "2    22\n",
       "dtype: int64"
      ]
     },
     "execution_count": 93,
     "metadata": {},
     "output_type": "execute_result"
    }
   ],
   "source": [
    "s[s>20]"
   ]
  },
  {
   "cell_type": "code",
   "execution_count": 98,
   "id": "6e7cfa93",
   "metadata": {},
   "outputs": [
    {
     "data": {
      "text/plain": [
       "k1    name1\n",
       "k2    name2\n",
       "k3    name3\n",
       "dtype: object"
      ]
     },
     "execution_count": 98,
     "metadata": {},
     "output_type": "execute_result"
    }
   ],
   "source": [
    "#we can also pass dict to the series datatype\n",
    "table={'k1':'name1','k2':'name2','k3':'name3'}\n",
    "s1=pd.Series(table)\n",
    "s1"
   ]
  },
  {
   "cell_type": "code",
   "execution_count": 99,
   "id": "2355fcad",
   "metadata": {},
   "outputs": [
    {
     "data": {
      "text/plain": [
       "k1    name1name1\n",
       "k2    name2name2\n",
       "k3           NaN\n",
       "k4           NaN\n",
       "dtype: object"
      ]
     },
     "execution_count": 99,
     "metadata": {},
     "output_type": "execute_result"
    }
   ],
   "source": [
    "table={'k1':'name1','k2':'name2','k4':'name4'}\n",
    "s2=pd.Series(table)\n",
    "s1+s2"
   ]
  },
  {
   "cell_type": "code",
   "execution_count": 101,
   "id": "8aab7d33",
   "metadata": {},
   "outputs": [
    {
     "ename": "ValueError",
     "evalue": "Shape of passed values is (4, 5), indices imply (5, 5)",
     "output_type": "error",
     "traceback": [
      "\u001b[0;31m---------------------------------------------------------------------------\u001b[0m",
      "\u001b[0;31mValueError\u001b[0m                                Traceback (most recent call last)",
      "\u001b[0;32m/var/folders/kn/5vmxrt755yd19r6tb66rw0mm0000gn/T/ipykernel_58374/4126212756.py\u001b[0m in \u001b[0;36m<module>\u001b[0;34m\u001b[0m\n\u001b[1;32m      2\u001b[0m \u001b[0mtemp\u001b[0m\u001b[0;34m=\u001b[0m\u001b[0mnp\u001b[0m\u001b[0;34m.\u001b[0m\u001b[0marange\u001b[0m\u001b[0;34m(\u001b[0m\u001b[0;36m0\u001b[0m\u001b[0;34m,\u001b[0m\u001b[0;36m20\u001b[0m\u001b[0;34m)\u001b[0m\u001b[0;34m.\u001b[0m\u001b[0mreshape\u001b[0m\u001b[0;34m(\u001b[0m\u001b[0;36m4\u001b[0m\u001b[0;34m,\u001b[0m\u001b[0;36m5\u001b[0m\u001b[0;34m)\u001b[0m\u001b[0;34m\u001b[0m\u001b[0;34m\u001b[0m\u001b[0m\n\u001b[1;32m      3\u001b[0m \u001b[0mind\u001b[0m\u001b[0;34m=\u001b[0m\u001b[0;34m'a b c d e'\u001b[0m\u001b[0;34m.\u001b[0m\u001b[0msplit\u001b[0m\u001b[0;34m(\u001b[0m\u001b[0;34m)\u001b[0m\u001b[0;34m\u001b[0m\u001b[0;34m\u001b[0m\u001b[0m\n\u001b[0;32m----> 4\u001b[0;31m \u001b[0mdf\u001b[0m\u001b[0;34m=\u001b[0m\u001b[0mpd\u001b[0m\u001b[0;34m.\u001b[0m\u001b[0mDataFrame\u001b[0m\u001b[0;34m(\u001b[0m\u001b[0mtemp\u001b[0m\u001b[0;34m,\u001b[0m\u001b[0mind\u001b[0m\u001b[0;34m)\u001b[0m\u001b[0;34m\u001b[0m\u001b[0;34m\u001b[0m\u001b[0m\n\u001b[0m\u001b[1;32m      5\u001b[0m \u001b[0mdf\u001b[0m\u001b[0;34m\u001b[0m\u001b[0;34m\u001b[0m\u001b[0m\n",
      "\u001b[0;32m~/opt/anaconda3/lib/python3.9/site-packages/pandas/core/frame.py\u001b[0m in \u001b[0;36m__init__\u001b[0;34m(self, data, index, columns, dtype, copy)\u001b[0m\n\u001b[1;32m    692\u001b[0m                 )\n\u001b[1;32m    693\u001b[0m             \u001b[0;32melse\u001b[0m\u001b[0;34m:\u001b[0m\u001b[0;34m\u001b[0m\u001b[0;34m\u001b[0m\u001b[0m\n\u001b[0;32m--> 694\u001b[0;31m                 mgr = ndarray_to_mgr(\n\u001b[0m\u001b[1;32m    695\u001b[0m                     \u001b[0mdata\u001b[0m\u001b[0;34m,\u001b[0m\u001b[0;34m\u001b[0m\u001b[0;34m\u001b[0m\u001b[0m\n\u001b[1;32m    696\u001b[0m                     \u001b[0mindex\u001b[0m\u001b[0;34m,\u001b[0m\u001b[0;34m\u001b[0m\u001b[0;34m\u001b[0m\u001b[0m\n",
      "\u001b[0;32m~/opt/anaconda3/lib/python3.9/site-packages/pandas/core/internals/construction.py\u001b[0m in \u001b[0;36mndarray_to_mgr\u001b[0;34m(values, index, columns, dtype, copy, typ)\u001b[0m\n\u001b[1;32m    349\u001b[0m     )\n\u001b[1;32m    350\u001b[0m \u001b[0;34m\u001b[0m\u001b[0m\n\u001b[0;32m--> 351\u001b[0;31m     \u001b[0m_check_values_indices_shape_match\u001b[0m\u001b[0;34m(\u001b[0m\u001b[0mvalues\u001b[0m\u001b[0;34m,\u001b[0m \u001b[0mindex\u001b[0m\u001b[0;34m,\u001b[0m \u001b[0mcolumns\u001b[0m\u001b[0;34m)\u001b[0m\u001b[0;34m\u001b[0m\u001b[0;34m\u001b[0m\u001b[0m\n\u001b[0m\u001b[1;32m    352\u001b[0m \u001b[0;34m\u001b[0m\u001b[0m\n\u001b[1;32m    353\u001b[0m     \u001b[0;32mif\u001b[0m \u001b[0mtyp\u001b[0m \u001b[0;34m==\u001b[0m \u001b[0;34m\"array\"\u001b[0m\u001b[0;34m:\u001b[0m\u001b[0;34m\u001b[0m\u001b[0;34m\u001b[0m\u001b[0m\n",
      "\u001b[0;32m~/opt/anaconda3/lib/python3.9/site-packages/pandas/core/internals/construction.py\u001b[0m in \u001b[0;36m_check_values_indices_shape_match\u001b[0;34m(values, index, columns)\u001b[0m\n\u001b[1;32m    420\u001b[0m         \u001b[0mpassed\u001b[0m \u001b[0;34m=\u001b[0m \u001b[0mvalues\u001b[0m\u001b[0;34m.\u001b[0m\u001b[0mshape\u001b[0m\u001b[0;34m\u001b[0m\u001b[0;34m\u001b[0m\u001b[0m\n\u001b[1;32m    421\u001b[0m         \u001b[0mimplied\u001b[0m \u001b[0;34m=\u001b[0m \u001b[0;34m(\u001b[0m\u001b[0mlen\u001b[0m\u001b[0;34m(\u001b[0m\u001b[0mindex\u001b[0m\u001b[0;34m)\u001b[0m\u001b[0;34m,\u001b[0m \u001b[0mlen\u001b[0m\u001b[0;34m(\u001b[0m\u001b[0mcolumns\u001b[0m\u001b[0;34m)\u001b[0m\u001b[0;34m)\u001b[0m\u001b[0;34m\u001b[0m\u001b[0;34m\u001b[0m\u001b[0m\n\u001b[0;32m--> 422\u001b[0;31m         \u001b[0;32mraise\u001b[0m \u001b[0mValueError\u001b[0m\u001b[0;34m(\u001b[0m\u001b[0;34mf\"Shape of passed values is {passed}, indices imply {implied}\"\u001b[0m\u001b[0;34m)\u001b[0m\u001b[0;34m\u001b[0m\u001b[0;34m\u001b[0m\u001b[0m\n\u001b[0m\u001b[1;32m    423\u001b[0m \u001b[0;34m\u001b[0m\u001b[0m\n\u001b[1;32m    424\u001b[0m \u001b[0;34m\u001b[0m\u001b[0m\n",
      "\u001b[0;31mValueError\u001b[0m: Shape of passed values is (4, 5), indices imply (5, 5)"
     ]
    }
   ],
   "source": [
    "#DataFrame\n",
    "temp=np.arange(0,20).reshape(4,5)\n",
    "ind='a b c d'.split()\n",
    "df=pd.DataFrame(temp,ind)\n",
    "df"
   ]
  },
  {
   "cell_type": "code",
   "execution_count": null,
   "id": "8bc36a63",
   "metadata": {},
   "outputs": [],
   "source": []
  }
 ],
 "metadata": {
  "kernelspec": {
   "display_name": "Python 3 (ipykernel)",
   "language": "python",
   "name": "python3"
  },
  "language_info": {
   "codemirror_mode": {
    "name": "ipython",
    "version": 3
   },
   "file_extension": ".py",
   "mimetype": "text/x-python",
   "name": "python",
   "nbconvert_exporter": "python",
   "pygments_lexer": "ipython3",
   "version": "3.9.13"
  }
 },
 "nbformat": 4,
 "nbformat_minor": 5
}
